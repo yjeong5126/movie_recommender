{
  "nbformat": 4,
  "nbformat_minor": 0,
  "metadata": {
    "colab": {
      "name": "item_practice.ipynb",
      "provenance": [],
      "collapsed_sections": [],
      "toc_visible": true
    },
    "kernelspec": {
      "name": "python3",
      "display_name": "Python 3"
    },
    "language_info": {
      "name": "python"
    }
  },
  "cells": [
    {
      "cell_type": "markdown",
      "metadata": {
        "id": "q67GMIhRJSFl"
      },
      "source": [
        "# Item-Based Collaborative Filtering Practice"
      ]
    },
    {
      "cell_type": "code",
      "metadata": {
        "id": "9d20ZFQZRDC5"
      },
      "source": [
        "import pandas as pd\n",
        "import numpy as np"
      ],
      "execution_count": 27,
      "outputs": []
    },
    {
      "cell_type": "markdown",
      "metadata": {
        "id": "y1-4_9nuJP0H"
      },
      "source": [
        "In the real dataset, the ratings are between 0.5 and 5.0. Therefore, zero only represents missing values in the rating matrix.\n",
        "\n",
        "For practice, let's say we have 10 movies and 10 users, and the ratings of each user are as follows:"
      ]
    },
    {
      "cell_type": "code",
      "metadata": {
        "colab": {
          "base_uri": "https://localhost:8080/",
          "height": 359
        },
        "id": "usy7Ab6DRF4G",
        "outputId": "54b143d7-a0d4-4352-f41f-f098e4877257"
      },
      "source": [
        "df = pd.DataFrame({'user_0':[0,3,0,5,0,0,4,5,0,2], 'user_1':[0,0,3,2,5,0,4,0,3,0], 'user_2':[3,1,0,3,5,0,0,4,0,0], 'user_3':[4,3,4,2,0,0,0,2,0,0], \n",
        "                   'user_4':[2,0,0,0,0,4,4,3,5,0], 'user_5':[1,0,2,4,0,0,4,0,5,0], 'user_6':[2,0,0,3,0,4,3,3,0,0], 'user_7':[0,0,0,3,0,2,4,3,4,0], \n",
        "                   'user_8':[5,0,0,0,5,3,0,3,0,4], 'user_9':[1,0,2,0,4,0,4,3,0,0]}, index=['movie_0','movie_1','movie_2','movie_3','movie_4','movie_5','movie_6','movie_7','movie_8','movie_9'])\n",
        "df"
      ],
      "execution_count": 28,
      "outputs": [
        {
          "output_type": "execute_result",
          "data": {
            "text/html": [
              "<div>\n",
              "<style scoped>\n",
              "    .dataframe tbody tr th:only-of-type {\n",
              "        vertical-align: middle;\n",
              "    }\n",
              "\n",
              "    .dataframe tbody tr th {\n",
              "        vertical-align: top;\n",
              "    }\n",
              "\n",
              "    .dataframe thead th {\n",
              "        text-align: right;\n",
              "    }\n",
              "</style>\n",
              "<table border=\"1\" class=\"dataframe\">\n",
              "  <thead>\n",
              "    <tr style=\"text-align: right;\">\n",
              "      <th></th>\n",
              "      <th>user_0</th>\n",
              "      <th>user_1</th>\n",
              "      <th>user_2</th>\n",
              "      <th>user_3</th>\n",
              "      <th>user_4</th>\n",
              "      <th>user_5</th>\n",
              "      <th>user_6</th>\n",
              "      <th>user_7</th>\n",
              "      <th>user_8</th>\n",
              "      <th>user_9</th>\n",
              "    </tr>\n",
              "  </thead>\n",
              "  <tbody>\n",
              "    <tr>\n",
              "      <th>movie_0</th>\n",
              "      <td>0</td>\n",
              "      <td>0</td>\n",
              "      <td>3</td>\n",
              "      <td>4</td>\n",
              "      <td>2</td>\n",
              "      <td>1</td>\n",
              "      <td>2</td>\n",
              "      <td>0</td>\n",
              "      <td>5</td>\n",
              "      <td>1</td>\n",
              "    </tr>\n",
              "    <tr>\n",
              "      <th>movie_1</th>\n",
              "      <td>3</td>\n",
              "      <td>0</td>\n",
              "      <td>1</td>\n",
              "      <td>3</td>\n",
              "      <td>0</td>\n",
              "      <td>0</td>\n",
              "      <td>0</td>\n",
              "      <td>0</td>\n",
              "      <td>0</td>\n",
              "      <td>0</td>\n",
              "    </tr>\n",
              "    <tr>\n",
              "      <th>movie_2</th>\n",
              "      <td>0</td>\n",
              "      <td>3</td>\n",
              "      <td>0</td>\n",
              "      <td>4</td>\n",
              "      <td>0</td>\n",
              "      <td>2</td>\n",
              "      <td>0</td>\n",
              "      <td>0</td>\n",
              "      <td>0</td>\n",
              "      <td>2</td>\n",
              "    </tr>\n",
              "    <tr>\n",
              "      <th>movie_3</th>\n",
              "      <td>5</td>\n",
              "      <td>2</td>\n",
              "      <td>3</td>\n",
              "      <td>2</td>\n",
              "      <td>0</td>\n",
              "      <td>4</td>\n",
              "      <td>3</td>\n",
              "      <td>3</td>\n",
              "      <td>0</td>\n",
              "      <td>0</td>\n",
              "    </tr>\n",
              "    <tr>\n",
              "      <th>movie_4</th>\n",
              "      <td>0</td>\n",
              "      <td>5</td>\n",
              "      <td>5</td>\n",
              "      <td>0</td>\n",
              "      <td>0</td>\n",
              "      <td>0</td>\n",
              "      <td>0</td>\n",
              "      <td>0</td>\n",
              "      <td>5</td>\n",
              "      <td>4</td>\n",
              "    </tr>\n",
              "    <tr>\n",
              "      <th>movie_5</th>\n",
              "      <td>0</td>\n",
              "      <td>0</td>\n",
              "      <td>0</td>\n",
              "      <td>0</td>\n",
              "      <td>4</td>\n",
              "      <td>0</td>\n",
              "      <td>4</td>\n",
              "      <td>2</td>\n",
              "      <td>3</td>\n",
              "      <td>0</td>\n",
              "    </tr>\n",
              "    <tr>\n",
              "      <th>movie_6</th>\n",
              "      <td>4</td>\n",
              "      <td>4</td>\n",
              "      <td>0</td>\n",
              "      <td>0</td>\n",
              "      <td>4</td>\n",
              "      <td>4</td>\n",
              "      <td>3</td>\n",
              "      <td>4</td>\n",
              "      <td>0</td>\n",
              "      <td>4</td>\n",
              "    </tr>\n",
              "    <tr>\n",
              "      <th>movie_7</th>\n",
              "      <td>5</td>\n",
              "      <td>0</td>\n",
              "      <td>4</td>\n",
              "      <td>2</td>\n",
              "      <td>3</td>\n",
              "      <td>0</td>\n",
              "      <td>3</td>\n",
              "      <td>3</td>\n",
              "      <td>3</td>\n",
              "      <td>3</td>\n",
              "    </tr>\n",
              "    <tr>\n",
              "      <th>movie_8</th>\n",
              "      <td>0</td>\n",
              "      <td>3</td>\n",
              "      <td>0</td>\n",
              "      <td>0</td>\n",
              "      <td>5</td>\n",
              "      <td>5</td>\n",
              "      <td>0</td>\n",
              "      <td>4</td>\n",
              "      <td>0</td>\n",
              "      <td>0</td>\n",
              "    </tr>\n",
              "    <tr>\n",
              "      <th>movie_9</th>\n",
              "      <td>2</td>\n",
              "      <td>0</td>\n",
              "      <td>0</td>\n",
              "      <td>0</td>\n",
              "      <td>0</td>\n",
              "      <td>0</td>\n",
              "      <td>0</td>\n",
              "      <td>0</td>\n",
              "      <td>4</td>\n",
              "      <td>0</td>\n",
              "    </tr>\n",
              "  </tbody>\n",
              "</table>\n",
              "</div>"
            ],
            "text/plain": [
              "         user_0  user_1  user_2  user_3  ...  user_6  user_7  user_8  user_9\n",
              "movie_0       0       0       3       4  ...       2       0       5       1\n",
              "movie_1       3       0       1       3  ...       0       0       0       0\n",
              "movie_2       0       3       0       4  ...       0       0       0       2\n",
              "movie_3       5       2       3       2  ...       3       3       0       0\n",
              "movie_4       0       5       5       0  ...       0       0       5       4\n",
              "movie_5       0       0       0       0  ...       4       2       3       0\n",
              "movie_6       4       4       0       0  ...       3       4       0       4\n",
              "movie_7       5       0       4       2  ...       3       3       3       3\n",
              "movie_8       0       3       0       0  ...       0       4       0       0\n",
              "movie_9       2       0       0       0  ...       0       0       4       0\n",
              "\n",
              "[10 rows x 10 columns]"
            ]
          },
          "metadata": {
            "tags": []
          },
          "execution_count": 28
        }
      ]
    },
    {
      "cell_type": "code",
      "metadata": {
        "colab": {
          "base_uri": "https://localhost:8080/"
        },
        "id": "YqmGz7ngQDHI",
        "outputId": "4dfa3753-cb0e-4cb5-e82d-a3ec676ba8fa"
      },
      "source": [
        "df.values"
      ],
      "execution_count": 29,
      "outputs": [
        {
          "output_type": "execute_result",
          "data": {
            "text/plain": [
              "array([[0, 0, 3, 4, 2, 1, 2, 0, 5, 1],\n",
              "       [3, 0, 1, 3, 0, 0, 0, 0, 0, 0],\n",
              "       [0, 3, 0, 4, 0, 2, 0, 0, 0, 2],\n",
              "       [5, 2, 3, 2, 0, 4, 3, 3, 0, 0],\n",
              "       [0, 5, 5, 0, 0, 0, 0, 0, 5, 4],\n",
              "       [0, 0, 0, 0, 4, 0, 4, 2, 3, 0],\n",
              "       [4, 4, 0, 0, 4, 4, 3, 4, 0, 4],\n",
              "       [5, 0, 4, 2, 3, 0, 3, 3, 3, 3],\n",
              "       [0, 3, 0, 0, 5, 5, 0, 4, 0, 0],\n",
              "       [2, 0, 0, 0, 0, 0, 0, 0, 4, 0]])"
            ]
          },
          "metadata": {
            "tags": []
          },
          "execution_count": 29
        }
      ]
    },
    {
      "cell_type": "markdown",
      "metadata": {
        "id": "SQpj64CYJ69e"
      },
      "source": [
        "Let's use **NearestNeighbors()** to calculate the distance between movies using **cosine similarity** and find the most similar movies for each movie."
      ]
    },
    {
      "cell_type": "code",
      "metadata": {
        "id": "GMPTaEDo-Hft"
      },
      "source": [
        "from sklearn.neighbors import NearestNeighbors"
      ],
      "execution_count": 30,
      "outputs": []
    },
    {
      "cell_type": "code",
      "metadata": {
        "id": "KwQrl1NtgGCI"
      },
      "source": [
        "knn = NearestNeighbors(metric='cosine', algorithm='brute')\n",
        "knn.fit(df.values)\n",
        "distances, indices = knn.kneighbors(df.values, n_neighbors=3)"
      ],
      "execution_count": 31,
      "outputs": []
    },
    {
      "cell_type": "markdown",
      "metadata": {
        "id": "EuLW9KSUKayD"
      },
      "source": [
        "The parameter for the number of the nearest neighbors is set to be 3. "
      ]
    },
    {
      "cell_type": "code",
      "metadata": {
        "colab": {
          "base_uri": "https://localhost:8080/"
        },
        "id": "3MEecUfVNzEm",
        "outputId": "74727b81-7b76-4557-857a-0d8a489e58d2"
      },
      "source": [
        "indices"
      ],
      "execution_count": 32,
      "outputs": [
        {
          "output_type": "execute_result",
          "data": {
            "text/plain": [
              "array([[0, 7, 5],\n",
              "       [1, 3, 7],\n",
              "       [2, 1, 6],\n",
              "       [3, 6, 7],\n",
              "       [4, 0, 7],\n",
              "       [5, 7, 0],\n",
              "       [6, 8, 3],\n",
              "       [7, 3, 0],\n",
              "       [8, 6, 3],\n",
              "       [9, 0, 7]])"
            ]
          },
          "metadata": {
            "tags": []
          },
          "execution_count": 32
        }
      ]
    },
    {
      "cell_type": "markdown",
      "metadata": {
        "id": "s6sGYf_pN0mj"
      },
      "source": [
        "**indices** shows the nearest movies to each movie. Each row corresponds to the row in the **df**. The first element in a row is the most similar (nearest) movie. It is the movie itself. The second element is the second nearest, and the third is the third nearest. For example, in the first row **[0,7,5]**, the nearest movie to **'movie_0'** is itself, the second nearest movie is **'movie_7'**, and the third is **'movie_5'**. "
      ]
    },
    {
      "cell_type": "code",
      "metadata": {
        "colab": {
          "base_uri": "https://localhost:8080/"
        },
        "id": "pusxN29QPFcO",
        "outputId": "b37c4607-2e45-4ca1-f9db-096180ca62cc"
      },
      "source": [
        "distances"
      ],
      "execution_count": 33,
      "outputs": [
        {
          "output_type": "execute_result",
          "data": {
            "text/plain": [
              "array([[0.00000000e+00, 3.19586183e-01, 4.03404722e-01],\n",
              "       [4.44089210e-16, 3.68421053e-01, 3.95436458e-01],\n",
              "       [0.00000000e+00, 5.20766162e-01, 5.24329288e-01],\n",
              "       [2.22044605e-16, 2.72367798e-01, 2.86615021e-01],\n",
              "       [0.00000000e+00, 4.04534842e-01, 4.80655057e-01],\n",
              "       [0.00000000e+00, 3.87174123e-01, 4.03404722e-01],\n",
              "       [0.00000000e+00, 2.33726809e-01, 2.72367798e-01],\n",
              "       [1.11022302e-16, 2.86615021e-01, 3.19586183e-01],\n",
              "       [2.22044605e-16, 2.33726809e-01, 4.96677704e-01],\n",
              "       [1.11022302e-16, 4.22649731e-01, 4.81455027e-01]])"
            ]
          },
          "metadata": {
            "tags": []
          },
          "execution_count": 33
        }
      ]
    },
    {
      "cell_type": "markdown",
      "metadata": {
        "id": "tgoz1ScqPTlP"
      },
      "source": [
        "**distances** shows the distance between movies. Each number in this matrix corresponds to the number in the **indices** matrix."
      ]
    },
    {
      "cell_type": "markdown",
      "metadata": {
        "id": "ZWy2q9M2PlFY"
      },
      "source": [
        "Let's present the info in the above matrices."
      ]
    },
    {
      "cell_type": "code",
      "metadata": {
        "colab": {
          "base_uri": "https://localhost:8080/"
        },
        "id": "EiYXCm13gJ3E",
        "outputId": "dc4b7002-9e8a-4301-8650-7ad464912299"
      },
      "source": [
        "for title in df.index:\n",
        "\n",
        "  index_user_likes = df.index.tolist().index(title) # get an index for a movie\n",
        "  sim_movies = indices[index_user_likes].tolist() # make list for similar movies\n",
        "  movie_distances = distances[index_user_likes].tolist() # the list for distances of similar movies\n",
        "  id_movie = sim_movies.index(index_user_likes) # get the position of the movie itself in indices and distances\n",
        "\n",
        "  print('Similar Movies to '+str(df.index[index_user_likes])+':\\n')\n",
        "\n",
        "\n",
        "  sim_movies.remove(index_user_likes) # remove the movie itself in indices\n",
        "  movie_distances.pop(id_movie) # remove the movie itself in distances\n",
        "\n",
        "  j = 1\n",
        "  \n",
        "  for i in sim_movies:\n",
        "    print(str(j)+': '+str(df.index[i])+', the distance with '+str(title)+': '+str(movie_distances[j-1]))\n",
        "    j = j + 1\n",
        "      \n",
        "  print('\\n')"
      ],
      "execution_count": 34,
      "outputs": [
        {
          "output_type": "stream",
          "text": [
            "Similar Movies to movie_0:\n",
            "\n",
            "1: movie_7, the distance with movie_0: 0.3195861825602283\n",
            "2: movie_5, the distance with movie_0: 0.40340472183738674\n",
            "\n",
            "\n",
            "Similar Movies to movie_1:\n",
            "\n",
            "1: movie_3, the distance with movie_1: 0.3684210526315791\n",
            "2: movie_7, the distance with movie_1: 0.39543645824165696\n",
            "\n",
            "\n",
            "Similar Movies to movie_2:\n",
            "\n",
            "1: movie_1, the distance with movie_2: 0.5207661617014769\n",
            "2: movie_6, the distance with movie_2: 0.5243292879915494\n",
            "\n",
            "\n",
            "Similar Movies to movie_3:\n",
            "\n",
            "1: movie_6, the distance with movie_3: 0.27236779788557686\n",
            "2: movie_7, the distance with movie_3: 0.2866150207251553\n",
            "\n",
            "\n",
            "Similar Movies to movie_4:\n",
            "\n",
            "1: movie_0, the distance with movie_4: 0.40453484184315647\n",
            "2: movie_7, the distance with movie_4: 0.4806550570967598\n",
            "\n",
            "\n",
            "Similar Movies to movie_5:\n",
            "\n",
            "1: movie_7, the distance with movie_5: 0.38717412297165876\n",
            "2: movie_0, the distance with movie_5: 0.40340472183738674\n",
            "\n",
            "\n",
            "Similar Movies to movie_6:\n",
            "\n",
            "1: movie_8, the distance with movie_6: 0.23372680904614496\n",
            "2: movie_3, the distance with movie_6: 0.27236779788557686\n",
            "\n",
            "\n",
            "Similar Movies to movie_7:\n",
            "\n",
            "1: movie_3, the distance with movie_7: 0.2866150207251553\n",
            "2: movie_0, the distance with movie_7: 0.3195861825602283\n",
            "\n",
            "\n",
            "Similar Movies to movie_8:\n",
            "\n",
            "1: movie_6, the distance with movie_8: 0.23372680904614496\n",
            "2: movie_3, the distance with movie_8: 0.49667770431528346\n",
            "\n",
            "\n",
            "Similar Movies to movie_9:\n",
            "\n",
            "1: movie_0, the distance with movie_9: 0.42264973081037427\n",
            "2: movie_7, the distance with movie_9: 0.4814550271298651\n",
            "\n",
            "\n"
          ],
          "name": "stdout"
        }
      ]
    },
    {
      "cell_type": "markdown",
      "metadata": {
        "id": "Htl8cAQ1dV_I"
      },
      "source": [
        "## Recommend Similar Movies to a Selected Movie"
      ]
    },
    {
      "cell_type": "markdown",
      "metadata": {
        "id": "he2H9hrCbfWs"
      },
      "source": [
        "Using the algorithm above, we can make a recommender for the similar movies to a selected movie by users."
      ]
    },
    {
      "cell_type": "code",
      "metadata": {
        "id": "FbYKt2wbb3ZB"
      },
      "source": [
        "def recommend_movie(title):\n",
        "\n",
        "  index_user_likes = df.index.tolist().index(title) # get an index for a movie\n",
        "  sim_movies = indices[index_user_likes].tolist() # make list for similar movies\n",
        "  movie_distances = distances[index_user_likes].tolist() # the list for distances of similar movies\n",
        "  id_movie = sim_movies.index(index_user_likes) # get the position of the movie itself in indices and distances\n",
        "\n",
        "  print('Similar Movies to '+str(df.index[index_user_likes])+': \\n')\n",
        "\n",
        "  sim_movies.remove(index_user_likes) # remove the movie itself in indices\n",
        "  movie_distances.pop(id_movie) # remove the movie itself in distances\n",
        "\n",
        "  j = 1\n",
        "    \n",
        "  for i in sim_movies:\n",
        "    print(str(j)+': '+str(df.index[i])+', the distance with '+str(title)+': '+str(movie_distances[j-1]))\n",
        "    j = j + 1"
      ],
      "execution_count": 35,
      "outputs": []
    },
    {
      "cell_type": "code",
      "metadata": {
        "colab": {
          "base_uri": "https://localhost:8080/"
        },
        "id": "o5uxdKTpcdha",
        "outputId": "9be44346-5876-4b34-9d83-4e467b27a918"
      },
      "source": [
        "recommend_movie('movie_3')"
      ],
      "execution_count": 36,
      "outputs": [
        {
          "output_type": "stream",
          "text": [
            "Similar Movies to movie_3: \n",
            "\n",
            "1: movie_6, the distance with movie_3: 0.27236779788557686\n",
            "2: movie_7, the distance with movie_3: 0.2866150207251553\n"
          ],
          "name": "stdout"
        }
      ]
    },
    {
      "cell_type": "markdown",
      "metadata": {
        "id": "qN-bg-DEduYo"
      },
      "source": [
        "## Recommend Movies for a Selected User"
      ]
    },
    {
      "cell_type": "markdown",
      "metadata": {
        "id": "UyvQujpYfbLl"
      },
      "source": [
        "Now, instead of recommending movies to a user based on the movie selected by the user, let's make a recommender which recommends movies to the user based on the predicted ratings for movies the user hasn't watch. "
      ]
    },
    {
      "cell_type": "markdown",
      "metadata": {
        "id": "YMDsHcnUg9gq"
      },
      "source": [
        "The algorithm of this recommendation engine is as follows:\n",
        "\n",
        "*  Step 1: Calculate similarity between movies using KNN. (The similarities are calculated based on all the ratings by all users. We already did this previously.)\n",
        "*  Step 2: For each movie a user has not watched, predict the rating: for a movie not watched by a user,\n",
        "   *  Find closest movies based on the similarity calculated in the Step 1.\n",
        "   *  For the closest movies, calcuate the weighted average of the ratings by the user. The inverse distance metric is used as the weight. \n",
        "   *  Use the weighted average of the ratings as the predicted rating for the movie by the user. \n",
        "\n",
        "* Step 3: Recommend movies which have the highest predicted ratings for the user. "
      ]
    },
    {
      "cell_type": "markdown",
      "metadata": {
        "id": "OZ7EeBhZl5xL"
      },
      "source": [
        "### Predict a Rating for a Movie by a User"
      ]
    },
    {
      "cell_type": "markdown",
      "metadata": {
        "id": "Dyt9CsoimCHH"
      },
      "source": [
        "In this part, let's practice how to predict a rating for a movie by a user. For example, **user_7** has not give a rating for **movie_0**. Let's predict this rating.\n",
        "\n",
        "The first thing to do is to find the nearest neighors for this movie using **KNN (n_neighbors = 3)**. "
      ]
    },
    {
      "cell_type": "code",
      "metadata": {
        "colab": {
          "base_uri": "https://localhost:8080/",
          "height": 359
        },
        "id": "sq3ESKsYpVZ8",
        "outputId": "e95f4349-2ac4-4028-fbe1-239959a6a693"
      },
      "source": [
        "df"
      ],
      "execution_count": 37,
      "outputs": [
        {
          "output_type": "execute_result",
          "data": {
            "text/html": [
              "<div>\n",
              "<style scoped>\n",
              "    .dataframe tbody tr th:only-of-type {\n",
              "        vertical-align: middle;\n",
              "    }\n",
              "\n",
              "    .dataframe tbody tr th {\n",
              "        vertical-align: top;\n",
              "    }\n",
              "\n",
              "    .dataframe thead th {\n",
              "        text-align: right;\n",
              "    }\n",
              "</style>\n",
              "<table border=\"1\" class=\"dataframe\">\n",
              "  <thead>\n",
              "    <tr style=\"text-align: right;\">\n",
              "      <th></th>\n",
              "      <th>user_0</th>\n",
              "      <th>user_1</th>\n",
              "      <th>user_2</th>\n",
              "      <th>user_3</th>\n",
              "      <th>user_4</th>\n",
              "      <th>user_5</th>\n",
              "      <th>user_6</th>\n",
              "      <th>user_7</th>\n",
              "      <th>user_8</th>\n",
              "      <th>user_9</th>\n",
              "    </tr>\n",
              "  </thead>\n",
              "  <tbody>\n",
              "    <tr>\n",
              "      <th>movie_0</th>\n",
              "      <td>0</td>\n",
              "      <td>0</td>\n",
              "      <td>3</td>\n",
              "      <td>4</td>\n",
              "      <td>2</td>\n",
              "      <td>1</td>\n",
              "      <td>2</td>\n",
              "      <td>0</td>\n",
              "      <td>5</td>\n",
              "      <td>1</td>\n",
              "    </tr>\n",
              "    <tr>\n",
              "      <th>movie_1</th>\n",
              "      <td>3</td>\n",
              "      <td>0</td>\n",
              "      <td>1</td>\n",
              "      <td>3</td>\n",
              "      <td>0</td>\n",
              "      <td>0</td>\n",
              "      <td>0</td>\n",
              "      <td>0</td>\n",
              "      <td>0</td>\n",
              "      <td>0</td>\n",
              "    </tr>\n",
              "    <tr>\n",
              "      <th>movie_2</th>\n",
              "      <td>0</td>\n",
              "      <td>3</td>\n",
              "      <td>0</td>\n",
              "      <td>4</td>\n",
              "      <td>0</td>\n",
              "      <td>2</td>\n",
              "      <td>0</td>\n",
              "      <td>0</td>\n",
              "      <td>0</td>\n",
              "      <td>2</td>\n",
              "    </tr>\n",
              "    <tr>\n",
              "      <th>movie_3</th>\n",
              "      <td>5</td>\n",
              "      <td>2</td>\n",
              "      <td>3</td>\n",
              "      <td>2</td>\n",
              "      <td>0</td>\n",
              "      <td>4</td>\n",
              "      <td>3</td>\n",
              "      <td>3</td>\n",
              "      <td>0</td>\n",
              "      <td>0</td>\n",
              "    </tr>\n",
              "    <tr>\n",
              "      <th>movie_4</th>\n",
              "      <td>0</td>\n",
              "      <td>5</td>\n",
              "      <td>5</td>\n",
              "      <td>0</td>\n",
              "      <td>0</td>\n",
              "      <td>0</td>\n",
              "      <td>0</td>\n",
              "      <td>0</td>\n",
              "      <td>5</td>\n",
              "      <td>4</td>\n",
              "    </tr>\n",
              "    <tr>\n",
              "      <th>movie_5</th>\n",
              "      <td>0</td>\n",
              "      <td>0</td>\n",
              "      <td>0</td>\n",
              "      <td>0</td>\n",
              "      <td>4</td>\n",
              "      <td>0</td>\n",
              "      <td>4</td>\n",
              "      <td>2</td>\n",
              "      <td>3</td>\n",
              "      <td>0</td>\n",
              "    </tr>\n",
              "    <tr>\n",
              "      <th>movie_6</th>\n",
              "      <td>4</td>\n",
              "      <td>4</td>\n",
              "      <td>0</td>\n",
              "      <td>0</td>\n",
              "      <td>4</td>\n",
              "      <td>4</td>\n",
              "      <td>3</td>\n",
              "      <td>4</td>\n",
              "      <td>0</td>\n",
              "      <td>4</td>\n",
              "    </tr>\n",
              "    <tr>\n",
              "      <th>movie_7</th>\n",
              "      <td>5</td>\n",
              "      <td>0</td>\n",
              "      <td>4</td>\n",
              "      <td>2</td>\n",
              "      <td>3</td>\n",
              "      <td>0</td>\n",
              "      <td>3</td>\n",
              "      <td>3</td>\n",
              "      <td>3</td>\n",
              "      <td>3</td>\n",
              "    </tr>\n",
              "    <tr>\n",
              "      <th>movie_8</th>\n",
              "      <td>0</td>\n",
              "      <td>3</td>\n",
              "      <td>0</td>\n",
              "      <td>0</td>\n",
              "      <td>5</td>\n",
              "      <td>5</td>\n",
              "      <td>0</td>\n",
              "      <td>4</td>\n",
              "      <td>0</td>\n",
              "      <td>0</td>\n",
              "    </tr>\n",
              "    <tr>\n",
              "      <th>movie_9</th>\n",
              "      <td>2</td>\n",
              "      <td>0</td>\n",
              "      <td>0</td>\n",
              "      <td>0</td>\n",
              "      <td>0</td>\n",
              "      <td>0</td>\n",
              "      <td>0</td>\n",
              "      <td>0</td>\n",
              "      <td>4</td>\n",
              "      <td>0</td>\n",
              "    </tr>\n",
              "  </tbody>\n",
              "</table>\n",
              "</div>"
            ],
            "text/plain": [
              "         user_0  user_1  user_2  user_3  ...  user_6  user_7  user_8  user_9\n",
              "movie_0       0       0       3       4  ...       2       0       5       1\n",
              "movie_1       3       0       1       3  ...       0       0       0       0\n",
              "movie_2       0       3       0       4  ...       0       0       0       2\n",
              "movie_3       5       2       3       2  ...       3       3       0       0\n",
              "movie_4       0       5       5       0  ...       0       0       5       4\n",
              "movie_5       0       0       0       0  ...       4       2       3       0\n",
              "movie_6       4       4       0       0  ...       3       4       0       4\n",
              "movie_7       5       0       4       2  ...       3       3       3       3\n",
              "movie_8       0       3       0       0  ...       0       4       0       0\n",
              "movie_9       2       0       0       0  ...       0       0       4       0\n",
              "\n",
              "[10 rows x 10 columns]"
            ]
          },
          "metadata": {
            "tags": []
          },
          "execution_count": 37
        }
      ]
    },
    {
      "cell_type": "code",
      "metadata": {
        "id": "hiYINFounKzV"
      },
      "source": [
        "knn = NearestNeighbors(metric='cosine', algorithm='brute')\n",
        "knn.fit(df.values)\n",
        "distances, indices = knn.kneighbors(df.values, n_neighbors=3)"
      ],
      "execution_count": 38,
      "outputs": []
    },
    {
      "cell_type": "code",
      "metadata": {
        "colab": {
          "base_uri": "https://localhost:8080/"
        },
        "id": "GUtno_fRmxgn",
        "outputId": "41f9f48e-2276-44de-c756-c0207105eae4"
      },
      "source": [
        "index_for_movie = df.index.tolist().index('movie_0') # it returns 0\n",
        "sim_movies = indices[index_for_movie].tolist() # make list for similar movies\n",
        "movie_distances = distances[index_for_movie].tolist() # the list for distances of similar movies\n",
        "id_movie = sim_movies.index(index_for_movie) # get the position of the movie itself in indices and distances\n",
        "sim_movies.remove(index_for_movie) # remove the movie itself in indices\n",
        "movie_distances.pop(id_movie) # remove the movie itself in distances\n",
        "\n",
        "print('The Nearest Movies to movie_0:', sim_movies)\n",
        "print('The Distance from movie_0:', movie_distances)"
      ],
      "execution_count": 39,
      "outputs": [
        {
          "output_type": "stream",
          "text": [
            "The Nearest Movies to movie_0: [7, 5]\n",
            "The Distance from movie_0: [0.3195861825602283, 0.40340472183738674]\n"
          ],
          "name": "stdout"
        }
      ]
    },
    {
      "cell_type": "markdown",
      "metadata": {
        "id": "AEjAEaLsn-X4"
      },
      "source": [
        "#### Predict a Rating\n",
        "\n",
        "The formula to calculate the predicted rating is as follows:\n",
        "\n",
        "$\\hat R_{mu}=\\frac{\\sum_{j} R_{ju}S_{mj}}{\\sum_{j} S_{mj}}$\n",
        "\n",
        "where $\\hat R_{mu}$ is the predicted rating for movie $m$ by user $u$, $R_{ju}$ is the actual rating for movie $j$ by user $u$, and $S_{mj}$ is the similarity between movie $m$ and movie $j$.\n",
        "\n",
        "This formula simply implies that the predicted rating for a movie is the weighted average of ratings for similar movies. The weight for each rating, $\\frac{S_{mj}}{\\sum_{k} S_{mk}}$, becomes greater when movie $m$ and movie $j$ are more similar. The denominator of this term makes the sum of all the weights in $\\hat R_{mu}$ become 1. \n",
        "\n",
        "\n"
      ]
    },
    {
      "cell_type": "markdown",
      "metadata": {
        "id": "LRFVUYff8dYE"
      },
      "source": [
        "Let's predict the rating for **movie_0** by **user_7**, $R(0,7)$. The closest movies to **movie_0** are **movie_5** and **movie_7**, and the distances are **0.4034**, and **0.3196**, respectively.\n",
        "\n",
        "Therefore, the predicted rating for $R(0,7)$ is as follows:\n",
        " \n",
        "$R(0,7) = [S(0,5)*R(5,7) + S(0,7)*R(7,7)]/[S(0,5)+S(0,7)]$.\n",
        "\n",
        "Since the distances between **movie_0** and **movie_5** and between **movie_0** and **movie_7** are 0.4034 and 0.3196, \n",
        "* $S(0,5)$ = (1 - 0.4034)\n",
        "* $S(0,7)$ = (1 - 0.3196).\n",
        "\n",
        "Also, $R(5,7)$ = 2 and $R(7,7)$ = 3. Therefore, the predicted $R(0,7)$ is 2.5328."
      ]
    },
    {
      "cell_type": "code",
      "metadata": {
        "colab": {
          "base_uri": "https://localhost:8080/"
        },
        "id": "9rufDY3RfGP5",
        "outputId": "2df69d78-4467-4dc2-c996-043307589b3b"
      },
      "source": [
        "movie_similarity = [-x+1 for x in movie_distances] # inverse distance \n",
        "\n",
        "predicted_rating = (movie_similarity[0]*df.iloc[sim_movies[0],7] + movie_similarity[1]*df.iloc[sim_movies[1],7])/sum(movie_similarity)\n",
        "print(predicted_rating)"
      ],
      "execution_count": 40,
      "outputs": [
        {
          "output_type": "stream",
          "text": [
            "2.5328183015946415\n"
          ],
          "name": "stdout"
        }
      ]
    },
    {
      "cell_type": "markdown",
      "metadata": {
        "id": "uv6cY9yA5u8o"
      },
      "source": [
        "### Build a Recommender"
      ]
    },
    {
      "cell_type": "code",
      "metadata": {
        "id": "wVYuBUgmX_eH"
      },
      "source": [
        "# find the nearest neighbors using NearestNeighbors(n_neighbors=3)\n",
        "number_neighbors = 3\n",
        "knn = NearestNeighbors(metric='cosine', algorithm='brute')\n",
        "knn.fit(df.values)\n",
        "distances, indices = knn.kneighbors(df.values, n_neighbors=number_neighbors)\n",
        "\n",
        "# copy df\n",
        "df1 = df.copy()\n",
        "\n",
        "# convert user_name to user_index\n",
        "user_index = df.columns.tolist().index('user_4')\n",
        "\n",
        "# t: movie_title, m: the row number of t in df\n",
        "for m,t in list(enumerate(df.index)):\n",
        "  \n",
        "  # find movies without ratings by user_4\n",
        "  if df.iloc[m, user_index] == 0:\n",
        "    sim_movies = indices[m].tolist()\n",
        "    movie_distances = distances[m].tolist()\n",
        "    \n",
        "    # Generally, this is the case: indices[3] = [3 6 7]. The movie itself is in the first place.\n",
        "    # In this case, we take off 3 from the list. Then, indices[3] == [6 7] to have the nearest NEIGHBORS in the list. \n",
        "    if m in sim_movies:\n",
        "      id_movie = sim_movies.index(m)\n",
        "      sim_movies.remove(m)\n",
        "      movie_distances.pop(id_movie) \n",
        "\n",
        "    # However, if the percentage of ratings in the dataset is very low, there are too many 0s in the dataset. \n",
        "    # Some movies have all 0 ratings and the movies with all 0s are considered the same movies by NearestNeighbors(). \n",
        "    # Then,even the movie itself cannot be included in the indices. \n",
        "    # For example, indices[3] = [2 4 7] is possible if movie_2, movie_3, movie_4, and movie_7 have all 0s for their ratings.\n",
        "    # In that case, we take off the farthest movie in the list. Therefore, 7 is taken off from the list, then indices[3] == [2 4].\n",
        "    else:\n",
        "      sim_movies = sim_movies[:number_neighbors-1]\n",
        "      movie_distances = movie_distances[:number_neighbors-1]\n",
        "        \n",
        "    # movie_similarty = 1 - movie_distance    \n",
        "    movie_similarity = [1-x for x in movie_distances]\n",
        "    movie_similarity_copy = movie_similarity.copy()\n",
        "    nominator = 0\n",
        "\n",
        "    # for each similar movie\n",
        "    for s in range(0, len(movie_similarity)):\n",
        "      \n",
        "      # check if the rating of a similar movie is zero\n",
        "      if df.iloc[sim_movies[s], user_index] == 0:\n",
        "\n",
        "        # if the rating is zero, ignore the rating and the similarity in calculating the predicted rating\n",
        "        if len(movie_similarity_copy) == (number_neighbors - 1):\n",
        "          movie_similarity_copy.pop(s)\n",
        "          \n",
        "        else:\n",
        "          movie_similarity_copy.pop(s-(len(movie_similarity)-len(movie_similarity_copy)))\n",
        "\n",
        "      # if the rating is not zero, use the rating and similarity in the calculation\n",
        "      else:\n",
        "        nominator = nominator + movie_similarity[s]*df.iloc[sim_movies[s],user_index]\n",
        "\n",
        "    # check if the number of the ratings with non-zero is positive\n",
        "    if len(movie_similarity_copy) > 0:\n",
        "      \n",
        "      # check if the sum of the ratings of the similar movies is positive.\n",
        "      if sum(movie_similarity_copy) > 0:\n",
        "        predicted_r = nominator/sum(movie_similarity_copy)\n",
        "\n",
        "      # Even if there are some movies for which the ratings are positive, some movies have zero similarity even though they are selected as similar movies.\n",
        "      # in this case, the predicted rating becomes zero as well  \n",
        "      else:\n",
        "        predicted_r = 0\n",
        "\n",
        "    # if all the ratings of the similar movies are zero, then predicted rating should be zero\n",
        "    else:\n",
        "      predicted_r = 0\n",
        "\n",
        "  # place the predicted rating into the copy of the original dataset\n",
        "    df1.iloc[m,user_index] = predicted_r"
      ],
      "execution_count": 41,
      "outputs": []
    },
    {
      "cell_type": "code",
      "metadata": {
        "id": "LFGuTH36BG1B"
      },
      "source": [
        "def recommend_movies(user, num_recommended_movies):\n",
        "\n",
        "  print('The list of the Movies {} Has Watched \\n'.format(user))\n",
        "\n",
        "  for m in df[df[user] > 0][user].index.tolist():\n",
        "    print(m)\n",
        "  \n",
        "  print('\\n')\n",
        "\n",
        "  recommended_movies = []\n",
        "\n",
        "  for m in df[df[user] == 0].index.tolist():\n",
        "\n",
        "    index_df = df.index.tolist().index(m)\n",
        "    predicted_rating = df1.iloc[index_df, df1.columns.tolist().index(user)]\n",
        "    recommended_movies.append((m, predicted_rating))\n",
        "\n",
        "  sorted_rm = sorted(recommended_movies, key=lambda x:x[1], reverse=True)\n",
        "  \n",
        "  print('The list of the Recommended Movies \\n')\n",
        "  rank = 1\n",
        "  for recommended_movie in sorted_rm[:num_recommended_movies]:\n",
        "    \n",
        "    print('{}: {} - predicted rating:{}'.format(rank, recommended_movie[0], recommended_movie[1]))\n",
        "    rank = rank + 1"
      ],
      "execution_count": 42,
      "outputs": []
    },
    {
      "cell_type": "code",
      "metadata": {
        "colab": {
          "base_uri": "https://localhost:8080/"
        },
        "id": "e7aHkR7tIgd8",
        "outputId": "3ba46efb-3a8a-47da-c6c3-967151a176b4"
      },
      "source": [
        "recommend_movies('user_4',5)"
      ],
      "execution_count": 43,
      "outputs": [
        {
          "output_type": "stream",
          "text": [
            "The list of the Movies user_4 Has Watched \n",
            "\n",
            "movie_0\n",
            "movie_5\n",
            "movie_6\n",
            "movie_7\n",
            "movie_8\n",
            "\n",
            "\n",
            "The list of the Recommended Movies \n",
            "\n",
            "1: movie_2 - predicted rating:4.0\n",
            "2: movie_3 - predicted rating:3.504943460433221\n",
            "3: movie_1 - predicted rating:3.0\n",
            "4: movie_9 - predicted rating:2.473170201830165\n",
            "5: movie_4 - predicted rating:2.4658595597666277\n"
          ],
          "name": "stdout"
        }
      ]
    },
    {
      "cell_type": "code",
      "metadata": {
        "id": "7WsMWq0TeOW0"
      },
      "source": [
        "df1 = df.copy()\n",
        "\n",
        "def movie_recommender(user, num_neighbors, num_recommendation):\n",
        "  \n",
        "  number_neighbors = num_neighbors\n",
        "\n",
        "  knn = NearestNeighbors(metric='cosine', algorithm='brute')\n",
        "  knn.fit(df.values)\n",
        "  distances, indices = knn.kneighbors(df.values, n_neighbors=number_neighbors)\n",
        "\n",
        "  user_index = df.columns.tolist().index(user)\n",
        "\n",
        "  for m,t in list(enumerate(df.index)):\n",
        "    if df.iloc[m, user_index] == 0:\n",
        "      sim_movies = indices[m].tolist()\n",
        "      movie_distances = distances[m].tolist()\n",
        "    \n",
        "      if m in sim_movies:\n",
        "        id_movie = sim_movies.index(m)\n",
        "        sim_movies.remove(m)\n",
        "        movie_distances.pop(id_movie) \n",
        "\n",
        "      else:\n",
        "        sim_movies = sim_movies[:num_neighbors-1]\n",
        "        movie_distances = movie_distances[:num_neighbors-1]\n",
        "           \n",
        "      movie_similarity = [1-x for x in movie_distances]\n",
        "      movie_similarity_copy = movie_similarity.copy()\n",
        "      nominator = 0\n",
        "\n",
        "      for s in range(0, len(movie_similarity)):\n",
        "        if df.iloc[sim_movies[s], user_index] == 0:\n",
        "          if len(movie_similarity_copy) == (number_neighbors - 1):\n",
        "            movie_similarity_copy.pop(s)\n",
        "          \n",
        "          else:\n",
        "            movie_similarity_copy.pop(s-(len(movie_similarity)-len(movie_similarity_copy)))\n",
        "            \n",
        "        else:\n",
        "          nominator = nominator + movie_similarity[s]*df.iloc[sim_movies[s],user_index]\n",
        "          \n",
        "      if len(movie_similarity_copy) > 0:\n",
        "        if sum(movie_similarity_copy) > 0:\n",
        "          predicted_r = nominator/sum(movie_similarity_copy)\n",
        "        \n",
        "        else:\n",
        "          predicted_r = 0\n",
        "\n",
        "      else:\n",
        "        predicted_r = 0\n",
        "        \n",
        "      df1.iloc[m,user_index] = predicted_r\n",
        "  recommend_movies(user,num_recommendation)"
      ],
      "execution_count": 44,
      "outputs": []
    },
    {
      "cell_type": "code",
      "metadata": {
        "colab": {
          "base_uri": "https://localhost:8080/"
        },
        "id": "T5IFAy75CHc8",
        "outputId": "01d79506-66c4-4816-f5f8-d8ed95e1c261"
      },
      "source": [
        "movie_recommender('user_4', 4, 5)"
      ],
      "execution_count": 45,
      "outputs": [
        {
          "output_type": "stream",
          "text": [
            "The list of the Movies user_4 Has Watched \n",
            "\n",
            "movie_0\n",
            "movie_5\n",
            "movie_6\n",
            "movie_7\n",
            "movie_8\n",
            "\n",
            "\n",
            "The list of the Recommended Movies \n",
            "\n",
            "1: movie_3 - predicted rating:3.504943460433221\n",
            "2: movie_2 - predicted rating:3.0283245929027296\n",
            "3: movie_1 - predicted rating:3.0\n",
            "4: movie_9 - predicted rating:2.473170201830165\n",
            "5: movie_4 - predicted rating:2.4658595597666277\n"
          ],
          "name": "stdout"
        }
      ]
    },
    {
      "cell_type": "markdown",
      "metadata": {
        "id": "5nEJ2sxoNO8h"
      },
      "source": [
        "### Applying to the Real Movie Data"
      ]
    },
    {
      "cell_type": "markdown",
      "metadata": {
        "id": "wesiNO2kQ4Oo"
      },
      "source": [
        "The dataset is from MovieLens."
      ]
    },
    {
      "cell_type": "code",
      "metadata": {
        "id": "B3oN5hLUEy06"
      },
      "source": [
        "ratings = pd.read_csv('ratings.csv', usecols=['userId','movieId','rating'])\n",
        "movies = pd.read_csv('movies.csv', usecols=['movieId','title'])\n",
        "ratings2 = pd.merge(ratings, movies, how='inner', on='movieId')"
      ],
      "execution_count": 46,
      "outputs": []
    },
    {
      "cell_type": "code",
      "metadata": {
        "id": "KJjGGdFuMSvu"
      },
      "source": [
        "df = ratings2.pivot_table(index='title',columns='userId',values='rating').fillna(0)\n",
        "df1 = df.copy()"
      ],
      "execution_count": 47,
      "outputs": []
    },
    {
      "cell_type": "code",
      "metadata": {
        "id": "I8CE-bhCRT6Q"
      },
      "source": [
        "def recommend_movies(user, num_recommended_movies):\n",
        "\n",
        "  print('The list of the Movies {} Has Watched \\n'.format(user))\n",
        "\n",
        "  for m in df[df[user] > 0][user].index.tolist():\n",
        "    print(m)\n",
        "  \n",
        "  print('\\n')\n",
        "\n",
        "  recommended_movies = []\n",
        "\n",
        "  for m in df[df[user] == 0].index.tolist():\n",
        "\n",
        "    index_df = df.index.tolist().index(m)\n",
        "    predicted_rating = df1.iloc[index_df, df1.columns.tolist().index(user)]\n",
        "    recommended_movies.append((m, predicted_rating))\n",
        "\n",
        "  sorted_rm = sorted(recommended_movies, key=lambda x:x[1], reverse=True)\n",
        "  \n",
        "  print('The list of the Recommended Movies \\n')\n",
        "  rank = 1\n",
        "  for recommended_movie in sorted_rm[:num_recommended_movies]:\n",
        "    \n",
        "    print('{}: {} - predicted rating:{}'.format(rank, recommended_movie[0], recommended_movie[1]))\n",
        "    rank = rank + 1"
      ],
      "execution_count": 48,
      "outputs": []
    },
    {
      "cell_type": "code",
      "metadata": {
        "id": "6VfInt8IRu3_"
      },
      "source": [
        "def movie_recommender(user, num_neighbors, num_recommendation):\n",
        "  \n",
        "  number_neighbors = num_neighbors\n",
        "\n",
        "  knn = NearestNeighbors(metric='cosine', algorithm='brute')\n",
        "  knn.fit(df.values)\n",
        "  distances, indices = knn.kneighbors(df.values, n_neighbors=number_neighbors)\n",
        "\n",
        "  user_index = df.columns.tolist().index(user)\n",
        "\n",
        "  for m,t in list(enumerate(df.index)):\n",
        "    if df.iloc[m, user_index] == 0:\n",
        "      sim_movies = indices[m].tolist()\n",
        "      movie_distances = distances[m].tolist()\n",
        "    \n",
        "      if m in sim_movies:\n",
        "        id_movie = sim_movies.index(m)\n",
        "        sim_movies.remove(m)\n",
        "        movie_distances.pop(id_movie) \n",
        "\n",
        "      else:\n",
        "        sim_movies = sim_movies[:num_neighbors-1]\n",
        "        movie_distances = movie_distances[:num_neighbors-1]\n",
        "           \n",
        "      movie_similarity = [1-x for x in movie_distances]\n",
        "      movie_similarity_copy = movie_similarity.copy()\n",
        "      nominator = 0\n",
        "\n",
        "      for s in range(0, len(movie_similarity)):\n",
        "        if df.iloc[sim_movies[s], user_index] == 0:\n",
        "          if len(movie_similarity_copy) == (number_neighbors - 1):\n",
        "            movie_similarity_copy.pop(s)\n",
        "          \n",
        "          else:\n",
        "            movie_similarity_copy.pop(s-(len(movie_similarity)-len(movie_similarity_copy)))\n",
        "            \n",
        "        else:\n",
        "          nominator = nominator + movie_similarity[s]*df.iloc[sim_movies[s],user_index]\n",
        "          \n",
        "      if len(movie_similarity_copy) > 0:\n",
        "        if sum(movie_similarity_copy) > 0:\n",
        "          predicted_r = nominator/sum(movie_similarity_copy)\n",
        "        \n",
        "        else:\n",
        "          predicted_r = 0\n",
        "\n",
        "      else:\n",
        "        predicted_r = 0\n",
        "        \n",
        "      df1.iloc[m,user_index] = predicted_r\n",
        "  recommend_movies(user,num_recommendation)"
      ],
      "execution_count": 49,
      "outputs": []
    },
    {
      "cell_type": "code",
      "metadata": {
        "colab": {
          "base_uri": "https://localhost:8080/"
        },
        "id": "v9QSWrUcRXe8",
        "outputId": "d79ad520-edaf-476c-ea49-2146b05da9a8"
      },
      "source": [
        "movie_recommender(15, 10, 10)"
      ],
      "execution_count": 50,
      "outputs": [
        {
          "output_type": "stream",
          "text": [
            "The list of the Movies 15 Has Watched \n",
            "\n",
            "(500) Days of Summer (2009)\n",
            "10 Cloverfield Lane (2016)\n",
            "101 Dalmatians (One Hundred and One Dalmatians) (1961)\n",
            "28 Days Later (2002)\n",
            "9 (2009)\n",
            "A.I. Artificial Intelligence (2001)\n",
            "Adjustment Bureau, The (2011)\n",
            "Aladdin (1992)\n",
            "Alien (1979)\n",
            "Aliens (1986)\n",
            "American Beauty (1999)\n",
            "American History X (1998)\n",
            "American Psycho (2000)\n",
            "Apocalypto (2006)\n",
            "Avatar (2009)\n",
            "Avengers, The (2012)\n",
            "Back to the Future (1985)\n",
            "Back to the Future Part II (1989)\n",
            "Back to the Future Part III (1990)\n",
            "Beautiful Mind, A (2001)\n",
            "Bicentennial Man (1999)\n",
            "Bolt (2008)\n",
            "Bridge of Spies (2015)\n",
            "Captain America: The Winter Soldier (2014)\n",
            "Captain Phillips (2013)\n",
            "Casper (1995)\n",
            "Cast Away (2000)\n",
            "Catch Me If You Can (2002)\n",
            "Chappie (2015)\n",
            "Children of Men (2006)\n",
            "Cloudy with a Chance of Meatballs (2009)\n",
            "Dark Knight Rises, The (2012)\n",
            "Dark Knight, The (2008)\n",
            "Deadpool (2016)\n",
            "District 9 (2009)\n",
            "Django Unchained (2012)\n",
            "Doctor Strange (2016)\n",
            "Edge of Tomorrow (2014)\n",
            "Escape from L.A. (1996)\n",
            "Ex Machina (2015)\n",
            "Fifth Element, The (1997)\n",
            "Fight Club (1999)\n",
            "Finding Nemo (2003)\n",
            "Flintstones, The (1994)\n",
            "Forrest Gump (1994)\n",
            "Frequency (2000)\n",
            "Gattaca (1997)\n",
            "Gladiator (2000)\n",
            "Godfather, The (1972)\n",
            "Gods Must Be Crazy, The (1980)\n",
            "Gone Girl (2014)\n",
            "Gran Torino (2008)\n",
            "Grand Budapest Hotel, The (2014)\n",
            "Gravity (2013)\n",
            "Green Mile, The (1999)\n",
            "Groundhog Day (1993)\n",
            "Guardians of the Galaxy (2014)\n",
            "I Am Legend (2007)\n",
            "I, Robot (2004)\n",
            "Inception (2010)\n",
            "Incredibles, The (2004)\n",
            "Independence Day (a.k.a. ID4) (1996)\n",
            "Inside Out (2015)\n",
            "Interstellar (2014)\n",
            "Iron Man (2008)\n",
            "John Wick (2014)\n",
            "Johnny Mnemonic (1995)\n",
            "Junior (1994)\n",
            "Kill Bill: Vol. 1 (2003)\n",
            "Kill Bill: Vol. 2 (2004)\n",
            "Lethal Weapon 2 (1989)\n",
            "Life of Pi (2012)\n",
            "Limitless (2011)\n",
            "Lion King, The (1994)\n",
            "Little Mermaid, The (1989)\n",
            "Looper (2012)\n",
            "Lord of the Rings: The Fellowship of the Ring, The (2001)\n",
            "Lord of the Rings: The Two Towers, The (2002)\n",
            "Léon: The Professional (a.k.a. The Professional) (Léon) (1994)\n",
            "Mad Max: Fury Road (2015)\n",
            "Matrix, The (1999)\n",
            "Memento (2000)\n",
            "Minority Report (2002)\n",
            "Misery (1990)\n",
            "Monsters, Inc. (2001)\n",
            "Moon (2009)\n",
            "Mortal Kombat (1995)\n",
            "My Neighbor Totoro (Tonari no Totoro) (1988)\n",
            "Nightmare on Elm Street, A (1984)\n",
            "Oblivion (2013)\n",
            "Others, The (2001)\n",
            "Passengers (2016)\n",
            "Patriot, The (2000)\n",
            "Pinocchio (1940)\n",
            "Prestige, The (2006)\n",
            "Prometheus (2012)\n",
            "Pulp Fiction (1994)\n",
            "Raiders of the Lost Ark (Indiana Jones and the Raiders of the Lost Ark) (1981)\n",
            "Ratatouille (2007)\n",
            "Requiem for a Dream (2000)\n",
            "Road Trip (2000)\n",
            "Rogue One: A Star Wars Story (2016)\n",
            "Ronin (1998)\n",
            "Sausage Party (2016)\n",
            "Saving Private Ryan (1998)\n",
            "Schindler's List (1993)\n",
            "Seven (a.k.a. Se7en) (1995)\n",
            "Shawshank Redemption, The (1994)\n",
            "Shrek (2001)\n",
            "Shrek 2 (2004)\n",
            "Sixth Sense, The (1999)\n",
            "Source Code (2011)\n",
            "Spirited Away (Sen to Chihiro no kamikakushi) (2001)\n",
            "Star Wars: Episode III - Revenge of the Sith (2005)\n",
            "Star Wars: Episode IV - A New Hope (1977)\n",
            "Star Wars: Episode V - The Empire Strikes Back (1980)\n",
            "Star Wars: Episode VI - Return of the Jedi (1983)\n",
            "Star Wars: Episode VII - The Force Awakens (2015)\n",
            "Sully (2016)\n",
            "Terminator 2: Judgment Day (1991)\n",
            "Terminator, The (1984)\n",
            "The Butterfly Effect (2004)\n",
            "The Hunger Games (2012)\n",
            "The Martian (2015)\n",
            "Total Recall (1990)\n",
            "Toy Story (1995)\n",
            "U-571 (2000)\n",
            "Unbreakable (2000)\n",
            "Up (2009)\n",
            "WALL·E (2008)\n",
            "What Women Want (2000)\n",
            "World War Z (2013)\n",
            "X-Files: Fight the Future, The (1998)\n",
            "X-Men: Apocalypse (2016)\n",
            "Zootopia (2016)\n",
            "\n",
            "\n",
            "The list of the Recommended Movies \n",
            "\n",
            "1: Army of Darkness (1993) - predicted rating:5.000000000000001\n",
            "2: Finding Forrester (2000) - predicted rating:5.000000000000001\n",
            "3: Home Alone 2: Lost in New York (1992) - predicted rating:5.000000000000001\n",
            "4: Jaws (1975) - predicted rating:5.000000000000001\n",
            "5: Master and Commander: The Far Side of the World (2003) - predicted rating:5.000000000000001\n",
            "6: Speed (1994) - predicted rating:5.000000000000001\n",
            "7: Thank You for Smoking (2006) - predicted rating:5.000000000000001\n",
            "8: 2001: A Space Odyssey (1968) - predicted rating:5.0\n",
            "9: Alien: Resurrection (1997) - predicted rating:5.0\n",
            "10: Beverly Hills Cop (1984) - predicted rating:5.0\n"
          ],
          "name": "stdout"
        }
      ]
    }
  ]
}