{
  "nbformat": 4,
  "nbformat_minor": 0,
  "metadata": {
    "colab": {
      "name": "content_based_recommender.ipynb",
      "provenance": [],
      "toc_visible": true
    },
    "kernelspec": {
      "name": "python3",
      "display_name": "Python 3"
    },
    "language_info": {
      "name": "python"
    }
  },
  "cells": [
    {
      "cell_type": "markdown",
      "metadata": {
        "id": "E55WVUHR_Yt1"
      },
      "source": [
        "# Movie Recommendation Systems"
      ]
    },
    {
      "cell_type": "markdown",
      "metadata": {
        "id": "SXIaJ9H1p3at"
      },
      "source": [
        "Basically, there are two kinds in the recommendation systems. The first is the **Content-Based** recommender, and the second is the **Collaborative Filtering** recommender. In this practice, I will practice to make the former."
      ]
    },
    {
      "cell_type": "markdown",
      "metadata": {
        "id": "pxYiD7lu_czh"
      },
      "source": [
        "## Content-Based Recommender"
      ]
    },
    {
      "cell_type": "markdown",
      "metadata": {
        "id": "H2xPwErQ6fTk"
      },
      "source": [
        "**Content-based recommender** is the recommending system to rely on the similarity of items when it recommends items to users. For example, when a user likes a specific movie, the system finds and recommends the items which have similar features to the movie the user likes."
      ]
    },
    {
      "cell_type": "code",
      "metadata": {
        "id": "zaRSuRIcx83m"
      },
      "source": [
        "import pandas as pd\n",
        "import numpy as np\n",
        "import matplotlib.pyplot as plt"
      ],
      "execution_count": 1,
      "outputs": []
    },
    {
      "cell_type": "markdown",
      "metadata": {
        "id": "K6aWDFzx_lWy"
      },
      "source": [
        "### Read the Data"
      ]
    },
    {
      "cell_type": "markdown",
      "metadata": {
        "id": "M5-aBnT7PGFu"
      },
      "source": [
        "Let's read the data. The data is the **MovieLens** Dataset. There are multiple versions of the movie dataset from the MovieLens. The version used in this practice has 9,742 movies."
      ]
    },
    {
      "cell_type": "code",
      "metadata": {
        "id": "35ilQvjty8mk"
      },
      "source": [
        "movies = pd.read_csv('movies.csv')"
      ],
      "execution_count": 2,
      "outputs": []
    },
    {
      "cell_type": "code",
      "metadata": {
        "colab": {
          "base_uri": "https://localhost:8080/",
          "height": 204
        },
        "id": "QZiknjB4_hnc",
        "outputId": "af0b4c38-825d-4f86-9b5f-1fbf8466b726"
      },
      "source": [
        "movies.head(5)"
      ],
      "execution_count": 3,
      "outputs": [
        {
          "output_type": "execute_result",
          "data": {
            "text/html": [
              "<div>\n",
              "<style scoped>\n",
              "    .dataframe tbody tr th:only-of-type {\n",
              "        vertical-align: middle;\n",
              "    }\n",
              "\n",
              "    .dataframe tbody tr th {\n",
              "        vertical-align: top;\n",
              "    }\n",
              "\n",
              "    .dataframe thead th {\n",
              "        text-align: right;\n",
              "    }\n",
              "</style>\n",
              "<table border=\"1\" class=\"dataframe\">\n",
              "  <thead>\n",
              "    <tr style=\"text-align: right;\">\n",
              "      <th></th>\n",
              "      <th>movieId</th>\n",
              "      <th>title</th>\n",
              "      <th>genres</th>\n",
              "    </tr>\n",
              "  </thead>\n",
              "  <tbody>\n",
              "    <tr>\n",
              "      <th>0</th>\n",
              "      <td>1</td>\n",
              "      <td>Toy Story (1995)</td>\n",
              "      <td>Adventure|Animation|Children|Comedy|Fantasy</td>\n",
              "    </tr>\n",
              "    <tr>\n",
              "      <th>1</th>\n",
              "      <td>2</td>\n",
              "      <td>Jumanji (1995)</td>\n",
              "      <td>Adventure|Children|Fantasy</td>\n",
              "    </tr>\n",
              "    <tr>\n",
              "      <th>2</th>\n",
              "      <td>3</td>\n",
              "      <td>Grumpier Old Men (1995)</td>\n",
              "      <td>Comedy|Romance</td>\n",
              "    </tr>\n",
              "    <tr>\n",
              "      <th>3</th>\n",
              "      <td>4</td>\n",
              "      <td>Waiting to Exhale (1995)</td>\n",
              "      <td>Comedy|Drama|Romance</td>\n",
              "    </tr>\n",
              "    <tr>\n",
              "      <th>4</th>\n",
              "      <td>5</td>\n",
              "      <td>Father of the Bride Part II (1995)</td>\n",
              "      <td>Comedy</td>\n",
              "    </tr>\n",
              "  </tbody>\n",
              "</table>\n",
              "</div>"
            ],
            "text/plain": [
              "   movieId  ...                                       genres\n",
              "0        1  ...  Adventure|Animation|Children|Comedy|Fantasy\n",
              "1        2  ...                   Adventure|Children|Fantasy\n",
              "2        3  ...                               Comedy|Romance\n",
              "3        4  ...                         Comedy|Drama|Romance\n",
              "4        5  ...                                       Comedy\n",
              "\n",
              "[5 rows x 3 columns]"
            ]
          },
          "metadata": {
            "tags": []
          },
          "execution_count": 3
        }
      ]
    },
    {
      "cell_type": "markdown",
      "metadata": {
        "id": "2Eb2hm4-AzlE"
      },
      "source": [
        "Check the size of the dataset."
      ]
    },
    {
      "cell_type": "code",
      "metadata": {
        "colab": {
          "base_uri": "https://localhost:8080/"
        },
        "id": "4Lk0fK6-_8g3",
        "outputId": "3bc6bcc1-a2c3-4c3c-935e-0023f699f33c"
      },
      "source": [
        "movies.shape"
      ],
      "execution_count": 4,
      "outputs": [
        {
          "output_type": "execute_result",
          "data": {
            "text/plain": [
              "(9742, 3)"
            ]
          },
          "metadata": {
            "tags": []
          },
          "execution_count": 4
        }
      ]
    },
    {
      "cell_type": "markdown",
      "metadata": {
        "id": "Vo3WqZaQA1-y"
      },
      "source": [
        "It has 9,742 movies. Check how many missng values are in each column."
      ]
    },
    {
      "cell_type": "code",
      "metadata": {
        "id": "U07w1FnycU7J"
      },
      "source": [
        "# create a function to create a table showing the numbers of missing values for each feature\n",
        "def create_missing_df(dataframe):\n",
        "  \n",
        "  missing_index = dataframe.columns.tolist() \n",
        "  missing = dataframe.isnull().sum().tolist()\n",
        "  missing_df = pd.DataFrame({'Missing':missing}, index=missing_index)\n",
        "\n",
        "  return missing_df"
      ],
      "execution_count": 5,
      "outputs": []
    },
    {
      "cell_type": "code",
      "metadata": {
        "colab": {
          "base_uri": "https://localhost:8080/",
          "height": 142
        },
        "id": "GWYaWeoMpv2Q",
        "outputId": "8f56a8f4-95c5-4ce4-ab3d-a0065bc0423c"
      },
      "source": [
        "create_missing_df(movies)"
      ],
      "execution_count": 6,
      "outputs": [
        {
          "output_type": "execute_result",
          "data": {
            "text/html": [
              "<div>\n",
              "<style scoped>\n",
              "    .dataframe tbody tr th:only-of-type {\n",
              "        vertical-align: middle;\n",
              "    }\n",
              "\n",
              "    .dataframe tbody tr th {\n",
              "        vertical-align: top;\n",
              "    }\n",
              "\n",
              "    .dataframe thead th {\n",
              "        text-align: right;\n",
              "    }\n",
              "</style>\n",
              "<table border=\"1\" class=\"dataframe\">\n",
              "  <thead>\n",
              "    <tr style=\"text-align: right;\">\n",
              "      <th></th>\n",
              "      <th>Missing</th>\n",
              "    </tr>\n",
              "  </thead>\n",
              "  <tbody>\n",
              "    <tr>\n",
              "      <th>movieId</th>\n",
              "      <td>0</td>\n",
              "    </tr>\n",
              "    <tr>\n",
              "      <th>title</th>\n",
              "      <td>0</td>\n",
              "    </tr>\n",
              "    <tr>\n",
              "      <th>genres</th>\n",
              "      <td>0</td>\n",
              "    </tr>\n",
              "  </tbody>\n",
              "</table>\n",
              "</div>"
            ],
            "text/plain": [
              "         Missing\n",
              "movieId        0\n",
              "title          0\n",
              "genres         0"
            ]
          },
          "metadata": {
            "tags": []
          },
          "execution_count": 6
        }
      ]
    },
    {
      "cell_type": "markdown",
      "metadata": {
        "id": "0CWWI0D4MBMZ"
      },
      "source": [
        "There is no missing value in the data set. \n",
        "\n",
        "The values of the column **title** have the format, '**title (year)**'. Since it is more convenient to separate **title** from **year** for the later use, I will separate these two in advance."
      ]
    },
    {
      "cell_type": "code",
      "metadata": {
        "id": "MnLk0byifbgM"
      },
      "source": [
        "# the function to extract titles\n",
        "def extract_title(title):\n",
        "\n",
        "  year = title[len(title)-5:len(title)-1]\n",
        "\n",
        "  # some movies do not have the info about year in the column title. So, we should take care of the case as well.\n",
        "  if year.isnumeric():\n",
        "    title_no_year = title[:len(title)-7]\n",
        "    return title_no_year\n",
        "\n",
        "  else:\n",
        "    return title"
      ],
      "execution_count": 7,
      "outputs": []
    },
    {
      "cell_type": "code",
      "metadata": {
        "id": "mgzl_2TCsSpA"
      },
      "source": [
        "# the function to extract years\n",
        "def extract_year(title):\n",
        "\n",
        "  year = title[len(title)-5:len(title)-1]\n",
        "\n",
        "  # some movies do not have the info about year in the column title. So, we should take care of the case as well.\n",
        "  if year.isnumeric():\n",
        "    return int(year)\n",
        "\n",
        "  else:\n",
        "    return np.nan"
      ],
      "execution_count": 8,
      "outputs": []
    },
    {
      "cell_type": "code",
      "metadata": {
        "id": "U0s2GMmfyN0t"
      },
      "source": [
        "movies.rename(columns={'title':'title_year'}, inplace=True) # change the column name from title to title_year\n",
        "movies['title_year'] = movies['title_year'].apply(lambda x: x.strip()) # remove leading and ending whitespaces in title_year\n",
        "movies['title'] = movies['title_year'].apply(extract_title) # create the column for title\n",
        "movies['year'] = movies['title_year'].apply(extract_year) # create the column for year"
      ],
      "execution_count": 9,
      "outputs": []
    },
    {
      "cell_type": "markdown",
      "metadata": {
        "id": "3zBZvS8suBXb"
      },
      "source": [
        "Let's check missing values again."
      ]
    },
    {
      "cell_type": "code",
      "metadata": {
        "colab": {
          "base_uri": "https://localhost:8080/",
          "height": 204
        },
        "id": "h0vWE7ysl6jQ",
        "outputId": "b76413f9-d61c-48da-8d14-43614e5d86c0"
      },
      "source": [
        "create_missing_df(movies)"
      ],
      "execution_count": 10,
      "outputs": [
        {
          "output_type": "execute_result",
          "data": {
            "text/html": [
              "<div>\n",
              "<style scoped>\n",
              "    .dataframe tbody tr th:only-of-type {\n",
              "        vertical-align: middle;\n",
              "    }\n",
              "\n",
              "    .dataframe tbody tr th {\n",
              "        vertical-align: top;\n",
              "    }\n",
              "\n",
              "    .dataframe thead th {\n",
              "        text-align: right;\n",
              "    }\n",
              "</style>\n",
              "<table border=\"1\" class=\"dataframe\">\n",
              "  <thead>\n",
              "    <tr style=\"text-align: right;\">\n",
              "      <th></th>\n",
              "      <th>Missing</th>\n",
              "    </tr>\n",
              "  </thead>\n",
              "  <tbody>\n",
              "    <tr>\n",
              "      <th>movieId</th>\n",
              "      <td>0</td>\n",
              "    </tr>\n",
              "    <tr>\n",
              "      <th>title_year</th>\n",
              "      <td>0</td>\n",
              "    </tr>\n",
              "    <tr>\n",
              "      <th>genres</th>\n",
              "      <td>0</td>\n",
              "    </tr>\n",
              "    <tr>\n",
              "      <th>title</th>\n",
              "      <td>0</td>\n",
              "    </tr>\n",
              "    <tr>\n",
              "      <th>year</th>\n",
              "      <td>12</td>\n",
              "    </tr>\n",
              "  </tbody>\n",
              "</table>\n",
              "</div>"
            ],
            "text/plain": [
              "            Missing\n",
              "movieId           0\n",
              "title_year        0\n",
              "genres            0\n",
              "title             0\n",
              "year             12"
            ]
          },
          "metadata": {
            "tags": []
          },
          "execution_count": 10
        }
      ]
    },
    {
      "cell_type": "markdown",
      "metadata": {
        "id": "W6AK8Nsx8ArY"
      },
      "source": [
        "12 movies do not have info about **year**. That's why those movies have missing values in the column **year** when **year** is separated from **title**. **year** is not very critical for this recommendation practice. So, I will let the missing values in **year** remain in the data. "
      ]
    },
    {
      "cell_type": "markdown",
      "metadata": {
        "id": "BxDrpqWWBN_h"
      },
      "source": [
        "### Explore the Feature (genres)"
      ]
    },
    {
      "cell_type": "markdown",
      "metadata": {
        "id": "3cs5gDqH8-lO"
      },
      "source": [
        "The column **genres** is the only feature used for this recommending system. The movies which do not have info about **genres** are unnecessary in this practice. I will drop those movies in the data. "
      ]
    },
    {
      "cell_type": "code",
      "metadata": {
        "colab": {
          "base_uri": "https://localhost:8080/"
        },
        "id": "EsleLtgv-nVn",
        "outputId": "05046626-c40e-4d32-d20d-4006a1b4f922"
      },
      "source": [
        "r,c = movies[movies['genres']=='(no genres listed)'].shape \n",
        "print('The number of movies which do not have info about genres:',r)"
      ],
      "execution_count": 11,
      "outputs": [
        {
          "output_type": "stream",
          "text": [
            "The number of movies which do not have info about genres: 34\n"
          ],
          "name": "stdout"
        }
      ]
    },
    {
      "cell_type": "code",
      "metadata": {
        "id": "oPVg46Eo-5aQ"
      },
      "source": [
        "movies = movies[~(movies['genres']=='(no genres listed)')].reset_index(drop=True)"
      ],
      "execution_count": 12,
      "outputs": []
    },
    {
      "cell_type": "markdown",
      "metadata": {
        "id": "aQhcljZcBeE0"
      },
      "source": [
        "Each movie contains multiple genres as follows: "
      ]
    },
    {
      "cell_type": "code",
      "metadata": {
        "colab": {
          "base_uri": "https://localhost:8080/",
          "height": 204
        },
        "id": "qHC4eH5DObT7",
        "outputId": "9780d46f-0100-4d26-c193-4bcd5ad11b59"
      },
      "source": [
        "movies[['title','genres']].head(5)"
      ],
      "execution_count": 13,
      "outputs": [
        {
          "output_type": "execute_result",
          "data": {
            "text/html": [
              "<div>\n",
              "<style scoped>\n",
              "    .dataframe tbody tr th:only-of-type {\n",
              "        vertical-align: middle;\n",
              "    }\n",
              "\n",
              "    .dataframe tbody tr th {\n",
              "        vertical-align: top;\n",
              "    }\n",
              "\n",
              "    .dataframe thead th {\n",
              "        text-align: right;\n",
              "    }\n",
              "</style>\n",
              "<table border=\"1\" class=\"dataframe\">\n",
              "  <thead>\n",
              "    <tr style=\"text-align: right;\">\n",
              "      <th></th>\n",
              "      <th>title</th>\n",
              "      <th>genres</th>\n",
              "    </tr>\n",
              "  </thead>\n",
              "  <tbody>\n",
              "    <tr>\n",
              "      <th>0</th>\n",
              "      <td>Toy Story</td>\n",
              "      <td>Adventure|Animation|Children|Comedy|Fantasy</td>\n",
              "    </tr>\n",
              "    <tr>\n",
              "      <th>1</th>\n",
              "      <td>Jumanji</td>\n",
              "      <td>Adventure|Children|Fantasy</td>\n",
              "    </tr>\n",
              "    <tr>\n",
              "      <th>2</th>\n",
              "      <td>Grumpier Old Men</td>\n",
              "      <td>Comedy|Romance</td>\n",
              "    </tr>\n",
              "    <tr>\n",
              "      <th>3</th>\n",
              "      <td>Waiting to Exhale</td>\n",
              "      <td>Comedy|Drama|Romance</td>\n",
              "    </tr>\n",
              "    <tr>\n",
              "      <th>4</th>\n",
              "      <td>Father of the Bride Part II</td>\n",
              "      <td>Comedy</td>\n",
              "    </tr>\n",
              "  </tbody>\n",
              "</table>\n",
              "</div>"
            ],
            "text/plain": [
              "                         title                                       genres\n",
              "0                    Toy Story  Adventure|Animation|Children|Comedy|Fantasy\n",
              "1                      Jumanji                   Adventure|Children|Fantasy\n",
              "2             Grumpier Old Men                               Comedy|Romance\n",
              "3            Waiting to Exhale                         Comedy|Drama|Romance\n",
              "4  Father of the Bride Part II                                       Comedy"
            ]
          },
          "metadata": {
            "tags": []
          },
          "execution_count": 13
        }
      ]
    },
    {
      "cell_type": "markdown",
      "metadata": {
        "id": "QOm9Wn9i963_"
      },
      "source": [
        "Let's see how many times each genre appears in the data."
      ]
    },
    {
      "cell_type": "code",
      "metadata": {
        "id": "ee_3tXzy-uaK"
      },
      "source": [
        "# remove '|' in the genres column\n",
        "movies['genres'] = movies['genres'].str.replace('|',' ')"
      ],
      "execution_count": 14,
      "outputs": []
    },
    {
      "cell_type": "code",
      "metadata": {
        "id": "mkjpZGk7cibv"
      },
      "source": [
        "# count the number of occurences for each genre in the data set\n",
        "counts = dict()\n",
        "\n",
        "for i in movies.index:\n",
        "  for g in movies.loc[i,'genres'].split(' '):\n",
        "    if g not in counts:\n",
        "      counts[g] = 1\n",
        "    else:\n",
        "      counts[g] = counts[g] + 1"
      ],
      "execution_count": 15,
      "outputs": []
    },
    {
      "cell_type": "code",
      "metadata": {
        "colab": {
          "base_uri": "https://localhost:8080/",
          "height": 450
        },
        "id": "Gk7_atlMfWYu",
        "outputId": "64eae855-588d-4e4b-90c8-6c871eefdb8a"
      },
      "source": [
        "plt.figure(figsize=(12,6))\n",
        "plt.bar(list(counts.keys()), counts.values(), color='g')\n",
        "plt.xticks(rotation=45)\n",
        "plt.xlabel('Genres')\n",
        "plt.ylabel('Counts')"
      ],
      "execution_count": 16,
      "outputs": [
        {
          "output_type": "execute_result",
          "data": {
            "text/plain": [
              "Text(0, 0.5, 'Counts')"
            ]
          },
          "metadata": {
            "tags": []
          },
          "execution_count": 16
        },
        {
          "output_type": "display_data",
          "data": {
            "image/png": "[encoded data removed]",
            "text/plain": [
              "<Figure size 864x432 with 1 Axes>"
            ]
          },
          "metadata": {
            "tags": [],
            "needs_background": "light"
          }
        }
      ]
    },
    {
      "cell_type": "markdown",
      "metadata": {
        "id": "ARXwSyeJvfh-"
      },
      "source": [
        "Drama and Comedy are the most in the data set. About half of the movies in the data are categorized into Drama or Comedy. "
      ]
    },
    {
      "cell_type": "markdown",
      "metadata": {
        "id": "rwml3InH-7m9"
      },
      "source": [
        "### Term Frequency and Inverse Document Frequency (tf-idf)"
      ]
    },
    {
      "cell_type": "markdown",
      "metadata": {
        "id": "GccwedSj_9BZ"
      },
      "source": [
        "The **TfidVectorizer()** class from the **sklearn.feature_extraction.text** library helps us to calculate the **tf-idf** scores for each genre in each movie."
      ]
    },
    {
      "cell_type": "code",
      "metadata": {
        "id": "6e-ttfHMAXr6"
      },
      "source": [
        "from sklearn.feature_extraction.text import TfidfVectorizer"
      ],
      "execution_count": 17,
      "outputs": []
    },
    {
      "cell_type": "code",
      "metadata": {
        "id": "LyCCnVgNgfHD"
      },
      "source": [
        "movies['genres'] = movies['genres'].str.replace('Sci-Fi','SciFi')\n",
        "movies['genres'] = movies['genres'].str.replace('Film-Noir','Noir')"
      ],
      "execution_count": 18,
      "outputs": []
    },
    {
      "cell_type": "code",
      "metadata": {
        "id": "1yMe7jqZJkGC"
      },
      "source": [
        "tfidf_vector = TfidfVectorizer(stop_words='english') # create an object for TfidfVectorizer\n",
        "tfidf_matrix = tfidf_vector.fit_transform(movies['genres']) # apply the object to the genres column"
      ],
      "execution_count": 19,
      "outputs": []
    },
    {
      "cell_type": "markdown",
      "metadata": {
        "id": "RvUPJEW-eBtf"
      },
      "source": [
        "The list and order of genres used in the vectorization are as follows:"
      ]
    },
    {
      "cell_type": "code",
      "metadata": {
        "colab": {
          "base_uri": "https://localhost:8080/"
        },
        "id": "hNH6Kk1AaLUw",
        "outputId": "45061719-d3a2-4599-c7c1-64690d3510f0"
      },
      "source": [
        "print(list(enumerate(tfidf_vector.get_feature_names())))"
      ],
      "execution_count": 20,
      "outputs": [
        {
          "output_type": "stream",
          "text": [
            "[(0, 'action'), (1, 'adventure'), (2, 'animation'), (3, 'children'), (4, 'comedy'), (5, 'crime'), (6, 'documentary'), (7, 'drama'), (8, 'fantasy'), (9, 'horror'), (10, 'imax'), (11, 'musical'), (12, 'mystery'), (13, 'noir'), (14, 'romance'), (15, 'scifi'), (16, 'thriller'), (17, 'war'), (18, 'western')]\n"
          ],
          "name": "stdout"
        }
      ]
    },
    {
      "cell_type": "markdown",
      "metadata": {
        "id": "TOpHtdIyhPcN"
      },
      "source": [
        "Let's see the examples of the vectorization for the first 5 movies."
      ]
    },
    {
      "cell_type": "code",
      "metadata": {
        "colab": {
          "base_uri": "https://localhost:8080/"
        },
        "id": "VPCoxfDLaevL",
        "outputId": "fa74614b-262d-445b-a580-e03390705a77"
      },
      "source": [
        "print(tfidf_matrix[:5])"
      ],
      "execution_count": 21,
      "outputs": [
        {
          "output_type": "stream",
          "text": [
            "  (0, 8)\t0.48301747178653426\n",
            "  (0, 4)\t0.26738777563975086\n",
            "  (0, 3)\t0.5048957307474672\n",
            "  (0, 2)\t0.5162876752057701\n",
            "  (0, 1)\t0.41680359510322523\n",
            "  (1, 8)\t0.5936766667075072\n",
            "  (1, 3)\t0.6205672299106341\n",
            "  (1, 1)\t0.5122932056626417\n",
            "  (2, 14)\t0.8211549883098352\n",
            "  (2, 4)\t0.5707052524498741\n",
            "  (3, 7)\t0.46621627821471856\n",
            "  (3, 14)\t0.7264518207332316\n",
            "  (3, 4)\t0.5048862585582906\n",
            "  (4, 4)\t1.0\n"
          ],
          "name": "stdout"
        }
      ]
    },
    {
      "cell_type": "markdown",
      "metadata": {
        "id": "AQRTSW5FiDuo"
      },
      "source": [
        "The first argument in the index above is the same as the index in the dataframe **movies** (**Not** movieId), and the second argument represents the index number of **genres**. The numbers in the second argument correspond to the index number in the previous code output. [(0, 'action'), (1, 'adventure'), (3, 'children'),...] For example, **(0,8) = 0.4830** means that movie index = 0 (**Toy Story**), genre index = 8 (**'fantasy'**), and the tf-idf score = 0.4830. The tf-idf score of **comedy** for **Toy Story** is **(0,4)=0.2674**. As mentioned earlier, the comedy has lower score than fantasy because it is very common genre in the whole data set, and is considered less important in defining the genre of the movie."
      ]
    },
    {
      "cell_type": "code",
      "metadata": {
        "colab": {
          "base_uri": "https://localhost:8080/"
        },
        "id": "No-GoFc1kPrc",
        "outputId": "db7df004-f852-4002-f8d1-5980eafe020d"
      },
      "source": [
        "tfidf_matrix.shape"
      ],
      "execution_count": 22,
      "outputs": [
        {
          "output_type": "execute_result",
          "data": {
            "text/plain": [
              "(9708, 19)"
            ]
          },
          "metadata": {
            "tags": []
          },
          "execution_count": 22
        }
      ]
    },
    {
      "cell_type": "code",
      "metadata": {
        "colab": {
          "base_uri": "https://localhost:8080/"
        },
        "id": "_0CH4PXCAL4X",
        "outputId": "8e71dcde-fd70-4283-9256-ffc3528b3815"
      },
      "source": [
        "# the first row vector of tfidf_matrix (Toy Story)\n",
        "tfidf_matrix.todense()[0]"
      ],
      "execution_count": 23,
      "outputs": [
        {
          "output_type": "execute_result",
          "data": {
            "text/plain": [
              "matrix([[0.        , 0.4168036 , 0.51628768, 0.50489573, 0.26738778,\n",
              "         0.        , 0.        , 0.        , 0.48301747, 0.        ,\n",
              "         0.        , 0.        , 0.        , 0.        , 0.        ,\n",
              "         0.        , 0.        , 0.        , 0.        ]])"
            ]
          },
          "metadata": {
            "tags": []
          },
          "execution_count": 23
        }
      ]
    },
    {
      "cell_type": "markdown",
      "metadata": {
        "id": "dfuyx0T-CiTO"
      },
      "source": [
        "Next, let's caculate the similarity between two movies using the **tf-idf matrix**. The **cosine similarity** is used to calculate the similarity, and **linear_kernel()** class is used to calculate this."
      ]
    },
    {
      "cell_type": "code",
      "metadata": {
        "id": "vkeWAqTqO1a1"
      },
      "source": [
        "from sklearn.metrics.pairwise import linear_kernel"
      ],
      "execution_count": 24,
      "outputs": []
    },
    {
      "cell_type": "code",
      "metadata": {
        "id": "7DL78_QPPWmb",
        "colab": {
          "base_uri": "https://localhost:8080/"
        },
        "outputId": "597e7b36-ff09-4004-eb6c-6a4c1ddefa22"
      },
      "source": [
        "sim_matrix = linear_kernel(tfidf_matrix,tfidf_matrix) # create the cosine similarity matrix\n",
        "print(sim_matrix)"
      ],
      "execution_count": 25,
      "outputs": [
        {
          "output_type": "stream",
          "text": [
            "[[1.         0.8136036  0.15259961 ... 0.         0.42114166 0.26738778]\n",
            " [0.8136036  1.         0.         ... 0.         0.         0.        ]\n",
            " [0.15259961 0.         1.         ... 0.         0.         0.57070525]\n",
            " ...\n",
            " [0.         0.         0.         ... 1.         0.         0.        ]\n",
            " [0.42114166 0.         0.         ... 0.         1.         0.        ]\n",
            " [0.26738778 0.         0.57070525 ... 0.         0.         1.        ]]\n"
          ],
          "name": "stdout"
        }
      ]
    },
    {
      "cell_type": "markdown",
      "metadata": {
        "id": "_fw8fUkJDERH"
      },
      "source": [
        "**sim_matrix**$_{ij}$ is the similarity score between movie $i$ and movie $j$.Therefore, the diagonal elements in the matrix represent the similarity scores of a movie with itself, and therefore, the value should be 1. By the definition of the matrix, **sim_matrix**$_{ij}$ = **sim_matrix**$_{ji}$. "
      ]
    },
    {
      "cell_type": "markdown",
      "metadata": {
        "id": "D-vYpW3jEqIR"
      },
      "source": [
        "### Make the Recommendation Engine "
      ]
    },
    {
      "cell_type": "markdown",
      "metadata": {
        "id": "AMeInxdWDxqC"
      },
      "source": [
        "When we use movie recommendation system, we type the title of the movie. However, the **sim_matrix** is based on the index of each movie. Therefore, we need to convert movie title into movie index and movie index into movie title. Let's create functions which operate those functions."
      ]
    },
    {
      "cell_type": "code",
      "metadata": {
        "id": "vRLLMIbbQOcN"
      },
      "source": [
        "# the function to convert from index to title_year\n",
        "def get_title_year_from_index(index):\n",
        "\n",
        "  return movies[movies.index == index]['title_year'].values[0]\n",
        "\n",
        "# the function to convert from title to index\n",
        "def get_index_from_title(title):\n",
        "\n",
        "  return movies[movies.title == title].index.values[0]"
      ],
      "execution_count": 26,
      "outputs": []
    },
    {
      "cell_type": "markdown",
      "metadata": {
        "id": "NA7j8be8ahgk"
      },
      "source": [
        "#### Apply Levenshtein Distance for 'Did you mean?' Algorithm"
      ]
    },
    {
      "cell_type": "markdown",
      "metadata": {
        "id": "lld-8mv-a1dX"
      },
      "source": [
        "We often misspell titles of movies when we use movie recommending system. When we use *Google* to search movies, if we misspell the title of the movie, we see that *Google* asks us, *'Did you mean...?'*. Let's create the similar function to correct misspelled title in order to make the system work easily. I apply **Levenshtein Distance** in order to implement *'Did you mean...?'* algorithm. **fuzzywuzzy** library in Python provides **fuzz** class for the **Levenshtein Distance**."
      ]
    },
    {
      "cell_type": "code",
      "metadata": {
        "colab": {
          "base_uri": "https://localhost:8080/"
        },
        "id": "DlLD49Ht9Ua2",
        "outputId": "a1a7fb87-0718-4ab6-90cb-cbdab670753f"
      },
      "source": [
        "!pip install fuzzywuzzy"
      ],
      "execution_count": 27,
      "outputs": [
        {
          "output_type": "stream",
          "text": [
            "Collecting fuzzywuzzy\n",
            "  Downloading https://files.pythonhosted.org/packages/43/ff/74f23998ad2f93b945c0309f825be92e04e0348e062026998b5eefef4c33/fuzzywuzzy-0.18.0-py2.py3-none-any.whl\n",
            "Installing collected packages: fuzzywuzzy\n",
            "Successfully installed fuzzywuzzy-0.18.0\n"
          ],
          "name": "stdout"
        }
      ]
    },
    {
      "cell_type": "code",
      "metadata": {
        "id": "MTQwj_S09anj",
        "colab": {
          "base_uri": "https://localhost:8080/"
        },
        "outputId": "12796867-a821-4512-9ec1-7bb13e67c7d1"
      },
      "source": [
        "from fuzzywuzzy import fuzz"
      ],
      "execution_count": 28,
      "outputs": [
        {
          "output_type": "stream",
          "text": [
            "/usr/local/lib/python3.7/dist-packages/fuzzywuzzy/fuzz.py:11: UserWarning: Using slow pure-python SequenceMatcher. Install python-Levenshtein to remove this warning\n",
            "  warnings.warn('Using slow pure-python SequenceMatcher. Install python-Levenshtein to remove this warning')\n"
          ],
          "name": "stderr"
        }
      ]
    },
    {
      "cell_type": "code",
      "metadata": {
        "id": "id8yVqyG9kmc"
      },
      "source": [
        "# create a function to find the closest title\n",
        "def matching_score(a,b):\n",
        "\n",
        "  return fuzz.ratio(a,b)"
      ],
      "execution_count": 29,
      "outputs": []
    },
    {
      "cell_type": "markdown",
      "metadata": {
        "id": "IA_eNtocdsFW"
      },
      "source": [
        "**fuzz.ratio(a,b)** calculates the Levenshtein Distance between **a** and **b**, and return the score for the distance. If the two words, **a** and **b**, are exactly the same, the score becomes 100. As the distance between the words increases, the score falls. "
      ]
    },
    {
      "cell_type": "code",
      "metadata": {
        "id": "4VFFg482-Gxg"
      },
      "source": [
        "# a function to convert index to title\n",
        "def get_title_from_index(index):\n",
        "\n",
        "  return movies[movies.index == index]['title'].values[0]"
      ],
      "execution_count": 31,
      "outputs": []
    },
    {
      "cell_type": "code",
      "metadata": {
        "id": "H4u9dGDf-lmk"
      },
      "source": [
        "# the function to return the most similar title to the words a user types\n",
        "def find_closest_title(title):\n",
        "\n",
        "  leven_scores = list(enumerate(movies['title'].apply(matching_score, b=title)))\n",
        "  sorted_leven_scores = sorted(leven_scores, key=lambda x: x[1], reverse=True)\n",
        "  closest_title = get_title_from_index(sorted_leven_scores[0][0])\n",
        "  distance_score = sorted_leven_scores[0][1]\n",
        "\n",
        "  return closest_title, distance_score"
      ],
      "execution_count": 33,
      "outputs": []
    },
    {
      "cell_type": "markdown",
      "metadata": {
        "id": "KB2p7M9Ng2H5"
      },
      "source": [
        "The function **find_closest_title()** is supposed to return the most similar title to the words a user types. Without this, the recommending system only works when the movie title a user types is exactly the same as the movie title the system has.  "
      ]
    },
    {
      "cell_type": "markdown",
      "metadata": {
        "id": "kdpBMam4hr07"
      },
      "source": [
        "#### Create the Recommending System"
      ]
    },
    {
      "cell_type": "code",
      "metadata": {
        "id": "MiM8lzjz_54z"
      },
      "source": [
        "def contents_based_recommender(movie_user_likes, how_many):\n",
        "\n",
        "  closest_title, distance_score = find_closest_title(movie_user_likes)\n",
        "\n",
        "  if distance_score == 100:\n",
        "\n",
        "    movie_index = get_index_from_title(closest_title)\n",
        "    movie_list = list(enumerate(sim_matrix[int(movie_index)]))\n",
        "    similar_movies = list(filter(lambda x:x[0] != int(movie_index), sorted(movie_list,key=lambda x:x[1], reverse=True))) # remove the typed movie itself\n",
        "\n",
        "    print('Here\\'s the list of movies similar to '+'\\033[1m'+str(closest_title)+'\\033[0m'+'.\\n')\n",
        "\n",
        "    for i,s in similar_movies[:how_many]: \n",
        "      print(get_title_year_from_index(i))\n",
        "    \n",
        "\n",
        "  else:\n",
        "    print('Did you mean '+'\\033[1m'+str(closest_title)+'\\033[0m'+'?','\\n')\n",
        "\n",
        "    movie_index = get_index_from_title(closest_title)\n",
        "    movie_list = list(enumerate(sim_matrix[int(movie_index)]))\n",
        "    similar_movies = list(filter(lambda x:x[0] != int(movie_index), sorted(movie_list,key=lambda x:x[1], reverse=True)))\n",
        "\n",
        "    print('Here\\'s the list of movies similar to '+'\\033[1m'+str(closest_title)+'\\033[0m'+'.\\n')\n",
        "\n",
        "    for i,s in similar_movies[:how_many]:\n",
        "      print(get_title_year_from_index(i))"
      ],
      "execution_count": 34,
      "outputs": []
    },
    {
      "cell_type": "markdown",
      "metadata": {
        "id": "vQ0z5-lxnbqC"
      },
      "source": [
        "The recommending system returns the list of movies similar to the movie a user likes. It finds and recommends movies even if the user misspell the tile of the movie he or she likes. If the user misspell the title, the system finds the most similar title to the words the user types and recommends movies based on the movie it found alternatively.  "
      ]
    },
    {
      "cell_type": "markdown",
      "metadata": {
        "id": "b9Y4puTjpXWz"
      },
      "source": [
        "#### Test the System"
      ]
    },
    {
      "cell_type": "markdown",
      "metadata": {
        "id": "E4fNQgwnphFW"
      },
      "source": [
        "Let's find similar movies to **'Monsters, Inc.'**. Set the number of the recommended movies as 20. "
      ]
    },
    {
      "cell_type": "code",
      "metadata": {
        "colab": {
          "base_uri": "https://localhost:8080/"
        },
        "id": "07S2_Y7wAvVm",
        "outputId": "91fb832c-0a0b-4132-e5a8-1e90a36e45a4"
      },
      "source": [
        "contents_based_recommender('Monsters, Inc.', 20)"
      ],
      "execution_count": 35,
      "outputs": [
        {
          "output_type": "stream",
          "text": [
            "Here's the list of movies similar to \u001b[1mMonsters, Inc.\u001b[0m.\n",
            "\n",
            "Toy Story (1995)\n",
            "Antz (1998)\n",
            "Toy Story 2 (1999)\n",
            "Adventures of Rocky and Bullwinkle, The (2000)\n",
            "Emperor's New Groove, The (2000)\n",
            "Wild, The (2006)\n",
            "Shrek the Third (2007)\n",
            "Tale of Despereaux, The (2008)\n",
            "Asterix and the Vikings (Astérix et les Vikings) (2006)\n",
            "Turbo (2013)\n",
            "The Good Dinosaur (2015)\n",
            "Moana (2016)\n",
            "Inside Out (2015)\n",
            "Black Cauldron, The (1985)\n",
            "Lord of the Rings, The (1978)\n",
            "We're Back! A Dinosaur's Story (1993)\n",
            "Atlantis: The Lost Empire (2001)\n",
            "Land Before Time, The (1988)\n",
            "Pokemon 4 Ever (a.k.a. Pokémon 4: The Movie) (2002)\n",
            "Sinbad: Legend of the Seven Seas (2003)\n"
          ],
          "name": "stdout"
        }
      ]
    },
    {
      "cell_type": "markdown",
      "metadata": {
        "id": "g53Twtjf1Ycc"
      },
      "source": [
        "The recommending system found pretty similar movies to the movie I chose."
      ]
    },
    {
      "cell_type": "markdown",
      "metadata": {
        "id": "iToRDlPa0eZ2"
      },
      "source": [
        "Let's see what will happen if we type the title in a wrong way."
      ]
    },
    {
      "cell_type": "code",
      "metadata": {
        "id": "yaIxE62m4gQA",
        "colab": {
          "base_uri": "https://localhost:8080/"
        },
        "outputId": "7a437cfa-8fc9-48ea-9d56-ad2415d9d2e0"
      },
      "source": [
        "contents_based_recommender('Monster Incorporation.', 20)"
      ],
      "execution_count": 36,
      "outputs": [
        {
          "output_type": "stream",
          "text": [
            "Did you mean \u001b[1mMonsters, Inc.\u001b[0m? \n",
            "\n",
            "Here's the list of movies similar to \u001b[1mMonsters, Inc.\u001b[0m.\n",
            "\n",
            "Toy Story (1995)\n",
            "Antz (1998)\n",
            "Toy Story 2 (1999)\n",
            "Adventures of Rocky and Bullwinkle, The (2000)\n",
            "Emperor's New Groove, The (2000)\n",
            "Wild, The (2006)\n",
            "Shrek the Third (2007)\n",
            "Tale of Despereaux, The (2008)\n",
            "Asterix and the Vikings (Astérix et les Vikings) (2006)\n",
            "Turbo (2013)\n",
            "The Good Dinosaur (2015)\n",
            "Moana (2016)\n",
            "Inside Out (2015)\n",
            "Black Cauldron, The (1985)\n",
            "Lord of the Rings, The (1978)\n",
            "We're Back! A Dinosaur's Story (1993)\n",
            "Atlantis: The Lost Empire (2001)\n",
            "Land Before Time, The (1988)\n",
            "Pokemon 4 Ever (a.k.a. Pokémon 4: The Movie) (2002)\n",
            "Sinbad: Legend of the Seven Seas (2003)\n"
          ],
          "name": "stdout"
        }
      ]
    },
    {
      "cell_type": "markdown",
      "metadata": {
        "id": "2P3t4urw1sQn"
      },
      "source": [
        "Even if the title I typed was not the same as what the data contains, it found the movie correctly and recommended the list well. "
      ]
    }
  ]
}